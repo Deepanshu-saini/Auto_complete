{
  "nbformat": 4,
  "nbformat_minor": 0,
  "metadata": {
    "colab": {
      "name": "Untitled",
      "provenance": []
    },
    "kernelspec": {
      "name": "python3",
      "display_name": "Python 3"
    },
    "language_info": {
      "name": "python"
    }
  },
  "cells": [
    {
      "cell_type": "code",
      "execution_count": 7,
      "metadata": {
        "id": "btqgYlDSeWy_",
        "colab": {
          "base_uri": "https://localhost:8080/"
        },
        "outputId": "6234e057-b642-45cd-909d-b0fd006bd812"
      },
      "outputs": [
        {
          "output_type": "stream",
          "name": "stdout",
          "text": [
            "Enter space seperated wordsa ab abb aabb abab\n",
            "Enter word to be autocompleteab\n",
            "ab\n",
            "abb\n",
            "abab\n"
          ]
        }
      ],
      "source": [
        "class TrieNode:\n",
        "  def __init__(self):\n",
        "    self.children={}\n",
        "    self.end=0\n",
        "class Trie:\n",
        "  def __init__(self):\n",
        "    self.root=TrieNode()\n",
        "    self.a=[]\n",
        "  def insert(self, str_to_be_inserted):\n",
        "    node=self.root\n",
        "    for x in (str_to_be_inserted):\n",
        "      if not node.children.get(x,0):\n",
        "        node.children[x]=TrieNode()\n",
        "      node=node.children[x]\n",
        "    node.end=1\n",
        "  def sug(self,node,k):\n",
        "    if node.end:\n",
        "      self.a.append(k)\n",
        "    for x,y in node.children.items():\n",
        "      self.sug(y,k+x)\n",
        "  def suggestions(self,k):\n",
        "    node=self.root\n",
        "    for x in k:\n",
        "      if not node.children.get(x,0):\n",
        "        return 0\n",
        "      node=node.children[x]\n",
        "    if not node.children:\n",
        "      return -1\n",
        "    else:\n",
        "      self.sug(node,k)\n",
        "      return 1\n",
        "inputs=input(\"Enter space seperated words\").split()\n",
        "auto_complete=Trie()\n",
        "to_complete=input(\"Enter word to be autocomplete\")\n",
        "for x in inputs:\n",
        "  auto_complete.insert(x)\n",
        "res=auto_complete.suggestions(to_complete)\n",
        "if res == -1:\n",
        "    print(\"No other strings found with this prefix\")\n",
        "elif res == 0:\n",
        "    print(\"No string found with this prefix\")\n",
        "else:\n",
        "  for x in auto_complete.a:\n",
        "    print(x)\n",
        "\n"
      ]
    }
  ]
}